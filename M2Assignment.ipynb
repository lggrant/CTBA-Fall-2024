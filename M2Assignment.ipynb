{
 "cells": [
  {
   "cell_type": "code",
   "execution_count": 1,
   "id": "b4705c9c-acd2-4e57-87a3-0dbe71f801af",
   "metadata": {},
   "outputs": [],
   "source": [
    "#packages\n",
    "import pandas as pd\n",
    "import numpy as np\n",
    "import matplotlib.pyplot as plt\n",
    "\n",
    "#csv\n",
    "df = pd.read_excel('C:/Users/HP/Downloads/AB Testing Demographics(1).xlsx', 'AB_test_demog')"
   ]
  },
  {
   "cell_type": "code",
   "execution_count": 5,
   "id": "5ebbf8e1-7cd8-4dc1-b3f0-c55c717d4a38",
   "metadata": {},
   "outputs": [],
   "source": [
    "minorities = df[df['minority'] == 1]\n",
    "nonminorities = df[df['minority'] == 0]"
   ]
  },
  {
   "cell_type": "code",
   "execution_count": 11,
   "id": "ef33c696-51d5-4a52-b371-10e181a94942",
   "metadata": {},
   "outputs": [
    {
     "name": "stdout",
     "output_type": "stream",
     "text": [
      "4571.062\n",
      "33725.558\n"
     ]
    }
   ],
   "source": [
    "print(minorities['revenue_after'].sum())\n",
    "print(nonminorities['revenue_after'].sum())"
   ]
  },
  {
   "cell_type": "code",
   "execution_count": 21,
   "id": "45c9f042-580d-4c4a-8d49-91206e209464",
   "metadata": {},
   "outputs": [
    {
     "name": "stdout",
     "output_type": "stream",
     "text": [
      "0.11935941083051195\n"
     ]
    }
   ],
   "source": [
    "minorrevpercent = minorities['revenue_after'].sum() / df['revenue_after'].sum()\n",
    "print(minorrevpercent)"
   ]
  },
  {
   "cell_type": "code",
   "execution_count": null,
   "id": "2002d321-8973-408a-b847-21edc64b24c8",
   "metadata": {},
   "outputs": [],
   "source": []
  }
 ],
 "metadata": {
  "kernelspec": {
   "display_name": "Python 3 (ipykernel)",
   "language": "python",
   "name": "python3"
  },
  "language_info": {
   "codemirror_mode": {
    "name": "ipython",
    "version": 3
   },
   "file_extension": ".py",
   "mimetype": "text/x-python",
   "name": "python",
   "nbconvert_exporter": "python",
   "pygments_lexer": "ipython3",
   "version": "3.11.5"
  }
 },
 "nbformat": 4,
 "nbformat_minor": 5
}
