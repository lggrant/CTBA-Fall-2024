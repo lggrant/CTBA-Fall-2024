{
 "cells": [
  {
   "cell_type": "code",
   "execution_count": 3,
   "id": "5fc22c93-45d0-45cd-8c84-aaf643eb2639",
   "metadata": {},
   "outputs": [],
   "source": [
    "# Analgesics Dataset\n",
    "\n",
    "import pandas as pd\n",
    "import numpy as np\n",
    "import matplotlib.pyplot as plt\n",
    "\n",
    "analgesics = pd.read_csv(\"C:/Users/HP/Downloads/M1_Analgesics_Database_Sheet.csv\")"
   ]
  },
  {
   "cell_type": "code",
   "execution_count": 52,
   "id": "d2a8d629-cb48-41c1-9dfc-3ad111e58ae5",
   "metadata": {},
   "outputs": [
    {
     "name": "stdout",
     "output_type": "stream",
     "text": [
      "WEEK     383    384    385    386    387    388    389    390    391    392\n",
      "STORE                                                                      \n",
      "100    185.0  214.0  240.0  205.0  228.0  228.0  177.0  179.0  236.0  189.0\n",
      "101    217.0  214.0  240.0  175.0  192.0  192.0  161.0  154.0  150.0  168.0\n",
      "102    271.0  275.0  295.0  225.0  262.0  262.0  234.0  224.0  272.0  236.0\n",
      "103     82.0  104.0   99.0   85.0   81.0   81.0   88.0   84.0   94.0   95.0\n",
      "104    124.0  130.0  129.0   97.0  105.0  105.0   96.0   97.0  112.0   87.0\n",
      "105     85.0  102.0   98.0   97.0   99.0   99.0   86.0   73.0  119.0   99.0\n"
     ]
    }
   ],
   "source": [
    "# Sales by Store by Week\n",
    "store_per_week = analgesics.pivot_table(index = 'STORE', columns = 'WEEK', values = 'SALES', aggfunc = 'sum').fillna(0)\n",
    "print(store_per_week)"
   ]
  },
  {
   "cell_type": "code",
   "execution_count": 54,
   "id": "08f39650-e3a7-48c4-91e8-ce5ca5a89091",
   "metadata": {},
   "outputs": [
    {
     "name": "stdout",
     "output_type": "stream",
     "text": [
      "WEEK           383    384    385    386    387    388    389    390    391  \\\n",
      "DESCRIPTION                                                                  \n",
      "Advil        208.0  196.0  174.0  218.0  327.0  327.0  163.0  170.0  171.0   \n",
      "Aleve        132.0   90.0   93.0   79.0   80.0   80.0   95.0   91.0  154.0   \n",
      "Anacin        30.0   24.0   28.0   47.0   42.0   42.0   31.0   28.0   42.0   \n",
      "Bayer         98.0  191.0  108.0   85.0   86.0   86.0   92.0   91.0  100.0   \n",
      "Bufferin      12.0    8.0   10.0   17.0   25.0   25.0   23.0   11.0   11.0   \n",
      "Excedrin     146.0  104.0  137.0  122.0  122.0  122.0  135.0  122.0  219.0   \n",
      "Motrin        52.0  152.0   67.0   63.0   54.0   54.0   61.0   46.0   42.0   \n",
      "Tylenol      286.0  274.0  484.0  253.0  231.0  231.0  242.0  252.0  244.0   \n",
      "\n",
      "WEEK           392  \n",
      "DESCRIPTION         \n",
      "Advil        182.0  \n",
      "Aleve        102.0  \n",
      "Anacin        51.0  \n",
      "Bayer         82.0  \n",
      "Bufferin      14.0  \n",
      "Excedrin      96.0  \n",
      "Motrin        74.0  \n",
      "Tylenol      273.0  \n"
     ]
    }
   ],
   "source": [
    "#Sales per Brand per Week\n",
    "brand_per_week = analgesics.pivot_table(index='DESCRIPTION', columns = 'WEEK', values = 'SALES', aggfunc = 'sum').fillna(0)\n",
    "print(brand_per_week)"
   ]
  },
  {
   "cell_type": "code",
   "execution_count": 78,
   "id": "45ba7bba-f1c5-409a-b9df-c28ad944c458",
   "metadata": {},
   "outputs": [
    {
     "name": "stdout",
     "output_type": "stream",
     "text": [
      "DESCRIPTION  WEEK\n",
      "Bufferin     384      8.0\n",
      "             385     10.0\n",
      "             390     11.0\n",
      "             391     11.0\n",
      "             383     12.0\n",
      "             392     14.0\n",
      "             386     17.0\n",
      "             389     23.0\n",
      "Anacin       384     24.0\n",
      "Bufferin     387     25.0\n",
      "dtype: float64\n"
     ]
    }
   ],
   "source": [
    "# Bottom 10 Sales\n",
    "bottom_10_sales = brand_per_week.stack().nsmallest(10)\n",
    "print(bottom_10_sales)\n"
   ]
  },
  {
   "cell_type": "code",
   "execution_count": 74,
   "id": "3cafad75-8121-468e-a59a-4f5f5c785c1b",
   "metadata": {},
   "outputs": [
    {
     "name": "stdout",
     "output_type": "stream",
     "text": [
      "        ID     ITEM          UPC DESCRIPTION    SIZE  STORE  WEEK  SALES\n",
      "1518  1519  6120051  30045046850     Tylenol   50 CT    101   392   19.0\n",
      "7236  7237  6122741  32586610502       Aleve   24 CT    101   392    7.0\n",
      "7356  7357  6122751  32586610504       Aleve   50 CT    101   392    6.0\n",
      "2598  2599  6122021  30573015030       Advil   50 CT    101   392    5.0\n",
      "2538  2539  6122001  30573015020       Advil   24 CT    101   392    5.0\n",
      "1578  1579  6120061  30045046870     Tylenol  100 CT    101   392    5.0\n",
      "1038  1039  6124721  30045044907     Tylenol   50 CT    101   392    5.0\n",
      "3004  3005  6122071  30573016020       Advil   24 CT    101   392    4.0\n",
      "933    934  6124741  30045044900     Tylenol  125CT.    101   392    4.0\n",
      "59      60  6122121  30009346302      Motrin   24 CT    101   392    4.0\n"
     ]
    }
   ],
   "source": [
    "# What were the top-selling items in Store 101 in week 392?\n",
    "store101week392 = analgesics[(analgesics['STORE'] == 101) & (analgesics['WEEK'] == 392)]\n",
    "top_selling = store101week392.sort_values(by = 'SALES', ascending = False).head(10)\n",
    "print(top_selling)"
   ]
  },
  {
   "cell_type": "code",
   "execution_count": 5,
   "id": "69a32192-5554-4a07-841d-22ef5e168237",
   "metadata": {},
   "outputs": [
    {
     "name": "stdout",
     "output_type": "stream",
     "text": [
      "        ID     ITEM          UPC DESCRIPTION    SIZE  STORE  WEEK  SALES\n",
      "7357  7358  6122751  32586610504       Aleve   50 CT    102   383   20.0\n",
      "5755  5756  6127201  31981000166    Excedrin  100 CT    102   383   11.0\n",
      "1099  1100  6124741  30045044909     Tylenol  100 CT    102   383   10.0\n",
      "2719  2720  6122021  30573015036       Advil   60 CT    102   383    9.0\n",
      "7237  7238  6122741  32586610502       Aleve   24 CT    102   383    9.0\n",
      "3425  3426  6122891  30573016520       Advil   24 CT    102   383    8.0\n",
      "7297  7298  6122451  32586610503       Aleve   50 CT    102   383    8.0\n",
      "979    980  6124701  30045044905     Tylenol   24 CT    102   383    7.0\n",
      "1579  1580  6120061  30045046870     Tylenol  100 CT    102   383    7.0\n",
      "1459  1460  6120041  30045046824     Tylenol   24 CT    102   383    7.0\n"
     ]
    }
   ],
   "source": [
    "store102week383 = analgesics[(analgesics['STORE'] == 102) & (analgesics['WEEK'] == 383)]\n",
    "top_selling2 = store102week383.sort_values(by = 'SALES', ascending = False).head(10)\n",
    "print(top_selling2)"
   ]
  },
  {
   "cell_type": "code",
   "execution_count": null,
   "id": "6251f7f6-836e-43d9-96b8-007e5b1d0a2c",
   "metadata": {},
   "outputs": [],
   "source": []
  }
 ],
 "metadata": {
  "kernelspec": {
   "display_name": "Python 3 (ipykernel)",
   "language": "python",
   "name": "python3"
  },
  "language_info": {
   "codemirror_mode": {
    "name": "ipython",
    "version": 3
   },
   "file_extension": ".py",
   "mimetype": "text/x-python",
   "name": "python",
   "nbconvert_exporter": "python",
   "pygments_lexer": "ipython3",
   "version": "3.11.5"
  }
 },
 "nbformat": 4,
 "nbformat_minor": 5
}
