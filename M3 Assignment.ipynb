{
 "cells": [
  {
   "cell_type": "code",
   "execution_count": 4,
   "id": "5109763c-cfc2-400e-8c93-337f724920d6",
   "metadata": {},
   "outputs": [
    {
     "name": "stderr",
     "output_type": "stream",
     "text": [
      "C:\\ProgramData\\anaconda3\\Lib\\site-packages\\openpyxl\\worksheet\\header_footer.py:48: UserWarning: Cannot parse header or footer so it will be ignored\n",
      "  warn(\"\"\"Cannot parse header or footer so it will be ignored\"\"\")\n"
     ]
    }
   ],
   "source": [
    "#packages\n",
    "import pandas as pd\n",
    "import numpy as np\n",
    "import statsmodels.api as sm\n",
    "import scipy\n",
    "\n",
    "#load data\n",
    "df = pd.read_excel(\"C:/Users/HP/Downloads/M4_Low_Birth_Weight_Data.xlsx\", \"LOWBWT\")"
   ]
  },
  {
   "cell_type": "code",
   "execution_count": 6,
   "id": "cf84b638-49c7-4e73-89f9-7cd8cc754eb6",
   "metadata": {},
   "outputs": [],
   "source": [
    "# drop id variable\n",
    "data_knn = df.drop(columns=['ID'])\n",
    "\n",
    "#set x and y\n",
    "X = data_knn.drop(columns=['LOW'])\n",
    "y = data_knn['LOW']"
   ]
  },
  {
   "cell_type": "code",
   "execution_count": null,
   "id": "503bcac5-f5d5-4c80-af42-6f7cbcf23aaa",
   "metadata": {},
   "outputs": [],
   "source": []
  }
 ],
 "metadata": {
  "kernelspec": {
   "display_name": "Python 3 (ipykernel)",
   "language": "python",
   "name": "python3"
  },
  "language_info": {
   "codemirror_mode": {
    "name": "ipython",
    "version": 3
   },
   "file_extension": ".py",
   "mimetype": "text/x-python",
   "name": "python",
   "nbconvert_exporter": "python",
   "pygments_lexer": "ipython3",
   "version": "3.11.5"
  }
 },
 "nbformat": 4,
 "nbformat_minor": 5
}
